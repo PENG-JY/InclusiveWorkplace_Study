{
 "cells": [
  {
   "cell_type": "markdown",
   "metadata": {},
   "source": [
    "---\n",
    "title: \"Data Collection\"\n",
    "format:\n",
    "    html: \n",
    "        code-fold: false\n",
    "---"
   ]
  },
  {
   "cell_type": "markdown",
   "metadata": {},
   "source": [
    "{{< include instructions.qmd >}} "
   ]
  },
  {
   "cell_type": "markdown",
   "metadata": {},
   "source": [
    "\n",
    "{{< include overview.qmd >}} "
   ]
  },
  {
   "cell_type": "markdown",
   "metadata": {},
   "source": [
    "{{< include methods.qmd >}} "
   ]
  },
  {
   "cell_type": "markdown",
   "metadata": {},
   "source": [
    "# Code \n",
    "\n",
    "Provide the source code used for this section of the project here.\n",
    "\n",
    "If you're using a package for code organization, you can import it at this point. However, make sure that the **actual workflow steps**—including data processing, analysis, and other key tasks—are conducted and clearly demonstrated on this page. The goal is to show the technical flow of your project, highlighting how the code is executed to achieve your results.\n",
    "\n",
    "Ensure that the code is well-commented to enhance readability and understanding for others who may review or use it. If relevant, link to additional documentation or external references that explain any complex components. This section should give readers a clear view of how the project is implemented from a technical perspective.\n",
    "\n",
    "This page is a technical narrative, NOT just a notebook with a collection of code cells, include in-line Prose, to describe what is going on."
   ]
  },
  {
   "cell_type": "code",
   "execution_count": null,
   "metadata": {},
   "outputs": [],
   "source": [
    "import requests\n",
    "import pandas as pd\n",
    "import os\n",
    "import time\n",
    "\n",
    "# Load the list of CIK codes from a CSV file\n",
    "csv_file = \"../../data/raw-data/company_cik_list.csv\"  # Replace with your CSV file path\n",
    "output_dir = \"../../data/raw-data/company_data\"  # Directory to save the JSON files\n",
    "\n",
    "# Create the output directory if it doesn't exist\n",
    "os.makedirs(output_dir, exist_ok=True)\n",
    "\n",
    "# Load the CSV file and extract the \"CIK-code\" column\n",
    "try:\n",
    "    df = pd.read_csv(csv_file)\n",
    "    cik_list = df[\"CIK-code\"].dropna().astype(str).tolist()  # Convert to string and remove NaN values\n",
    "except Exception as e:\n",
    "    print(f\"Error reading CSV file: {e}\")\n",
    "    exit()\n",
    "\n",
    "# Loop through each CIK code and fetch data\n",
    "for cik in cik_list:\n",
    "    # Construct the API URL dynamically for each CIK code\n",
    "    url = f\"https://data.sec.gov/api/xbrl/companyconcept/{cik}/us-gaap/AccountsPayableCurrent.json\"\n",
    "    headers = {\n",
    "        \"User-Agent\": \"jp2132@georgetown.edu\",  # Replace with your email\n",
    "        \"Accept-Encoding\": \"gzip, deflate\"\n",
    "    }\n",
    "\n",
    "    try:\n",
    "        # Make a GET request to fetch data from the API\n",
    "        response = requests.get(url, headers=headers)\n",
    "\n",
    "        if response.status_code == 200:\n",
    "            data = response.json()\n",
    "\n",
    "            # Save the fetched data to a JSON file\n",
    "            output_file = os.path.join(output_dir, f\"{cik}.json\")\n",
    "            with open(output_file, \"w\") as f:\n",
    "                f.write(response.text)\n",
    "\n",
    "            print(f\"Data for CIK {cik} saved to {output_file}\")\n",
    "        else:\n",
    "            # Handle unsuccessful requests with appropriate logging\n",
    "            print(f\"Failed to fetch data for CIK {cik}. HTTP status: {response.status_code}\")\n",
    "\n",
    "        # Pause to avoid overloading the server (rate limiting)\n",
    "        time.sleep(1)  # Adjust the delay as needed\n",
    "    except Exception as e:\n",
    "        # Log any errors that occur during the data fetching process\n",
    "        print(f\"Error fetching data for CIK {cik}: {e}\")\n",
    "\n",
    "print(\"Data fetching completed.\")"
   ]
  },
  {
   "cell_type": "markdown",
   "metadata": {},
   "source": [
    "## Example\n",
    "\n",
    "In the following code, we first utilized the requests library to retrieve the HTML content from the Wikipedia page. Afterward, we employed BeautifulSoup to parse the HTML and locate the specific table of interest by using the find function. Once the table was identified, we extracted the relevant data by iterating through its rows, gathering country names and their respective populations. Finally, we used Pandas to store the collected data in a DataFrame, allowing for easy analysis and visualization. The data could also be optionally saved as a CSV file for further use. \n"
   ]
  },
  {
   "cell_type": "code",
   "execution_count": null,
   "metadata": {},
   "outputs": [],
   "source": [
    "# Demo\n",
    "import requests\n",
    "\n",
    "url = \"https://data.sec.gov/api/xbrl/companyconcept/CIK0000066740/us-gaap/AccountsPayableCurrent.json\"\n",
    "\n",
    "headers = {\n",
    "    \"User-Agent\": \"jp2132@georgetown.edu\",\n",
    "    \"Accept-Encoding\": \"gzip, deflate\"\n",
    "}\n",
    "\n",
    "response = requests.get(url, headers=headers)\n",
    "\n",
    "if response.status_code == 200:\n",
    "    data = response.json()\n",
    "    print(data)\n",
    "else:\n",
    "    print(f\"Error: {response.status_code}\")"
   ]
  },
  {
   "cell_type": "markdown",
   "metadata": {},
   "source": [
    "{{< include closing.qmd >}} "
   ]
  }
 ],
 "metadata": {
  "kernelspec": {
   "display_name": "base",
   "language": "python",
   "name": "python3"
  },
  "language_info": {
   "codemirror_mode": {
    "name": "ipython",
    "version": 3
   },
   "file_extension": ".py",
   "mimetype": "text/x-python",
   "name": "python",
   "nbconvert_exporter": "python",
   "pygments_lexer": "ipython3",
   "version": "3.10.14"
  }
 },
 "nbformat": 4,
 "nbformat_minor": 2
}
